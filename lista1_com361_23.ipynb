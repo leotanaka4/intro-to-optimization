{
 "cells": [
  {
   "cell_type": "markdown",
   "metadata": {},
   "source": [
    "<h1 style=\"text-align:center;\">Introdução à Otimização &ndash; Professor Amit Bhaya &ndash; 2023/2</h1>\n",
    "<h2 style=\"text-align:center;\">Lista 1</h2>\n",
    "<h2 style=\"text-align:center;\">Entrega: 04 de setembro de 2023"
   ]
  },
  {
   "cell_type": "code",
   "execution_count": 16,
   "metadata": {},
   "outputs": [
    {
     "name": "stderr",
     "output_type": "stream",
     "text": [
      "\u001b[32m\u001b[1m   Resolving\u001b[22m\u001b[39m package versions...\n",
      "\u001b[32m\u001b[1m  No Changes\u001b[22m\u001b[39m to `C:\\Users\\Lucas\\.julia\\environments\\v1.9\\Project.toml`\n",
      "\u001b[32m\u001b[1m  No Changes\u001b[22m\u001b[39m to `C:\\Users\\Lucas\\.julia\\environments\\v1.9\\Manifest.toml`\n",
      "\u001b[32m\u001b[1m   Resolving\u001b[22m\u001b[39m package versions...\n",
      "\u001b[32m\u001b[1m  No Changes\u001b[22m\u001b[39m to `C:\\Users\\Lucas\\.julia\\environments\\v1.9\\Project.toml`\n",
      "\u001b[32m\u001b[1m  No Changes\u001b[22m\u001b[39m to `C:\\Users\\Lucas\\.julia\\environments\\v1.9\\Manifest.toml`\n",
      "\u001b[32m\u001b[1m   Resolving\u001b[22m\u001b[39m package versions...\n",
      "\u001b[32m\u001b[1m  No Changes\u001b[22m\u001b[39m to `C:\\Users\\Lucas\\.julia\\environments\\v1.9\\Project.toml`\n",
      "\u001b[32m\u001b[1m  No Changes\u001b[22m\u001b[39m to `C:\\Users\\Lucas\\.julia\\environments\\v1.9\\Manifest.toml`\n"
     ]
    },
    {
     "name": "stdout",
     "output_type": "stream",
     "text": [
      "  0.009760 seconds (8.59 k allocations: 512.779 KiB)\n",
      "  0.001018 seconds (309 allocations: 21.969 KiB)\n"
     ]
    }
   ],
   "source": [
    "import Pkg\n",
    "Pkg.add(\"Clp\")\n",
    "Pkg.add(\"JuMP\")\n",
    "Pkg.add(\"Plots\")\n",
    "@time using Clp\n",
    "@time using JuMP\n",
    "#@time using PyPlot"
   ]
  },
  {
   "cell_type": "code",
   "execution_count": 17,
   "metadata": {},
   "outputs": [
    {
     "name": "stdout",
     "output_type": "stream",
     "text": [
      "Julia Version 1.9.2\n",
      "Commit e4ee485e90 (2023-07-05 09:39 UTC)\n",
      "Platform Info:\n",
      "  OS: Windows (x86_64-w64-mingw32)\n",
      "  CPU: 12 × Intel(R) Core(TM) i7-10750H CPU @ 2.60GHz\n",
      "  WORD_SIZE: 64\n",
      "  LIBM: libopenlibm\n",
      "  LLVM: libLLVM-14.0.6 (ORCJIT, skylake)\n",
      "  Threads: 2 on 12 virtual cores\n",
      "Environment:\n",
      "  JULIA_IMAGE_THREADS = 1\n"
     ]
    }
   ],
   "source": [
    "versioninfo()"
   ]
  },
  {
   "cell_type": "markdown",
   "metadata": {},
   "source": [
    "## Problema 1: \n",
    "\n",
    "Considere o problema de otimização abaixo:\n",
    "\n",
    "\\begin{align}\n",
    "& \\text{maximize}_{u,v,w} \\quad -u + v - w \\\\\n",
    "& \\text{sujeito a} \\quad -5u + 5v + 3w \\leq 10 \\\\\n",
    "& \\qquad 5u - 5v - 3w \\leq 10 \\\\\n",
    "& \\qquad -2u + 2v - w \\leq -1 \\\\\n",
    "& \\qquad \\qquad w \\leq 3 \\\\\n",
    "& \\qquad u,v,w \\geq 0\n",
    "\\end{align}\n",
    " - Resolva o programa linear (PL), utilizando JuMP/Julia.\n",
    " - Transforme o PL abaixo à forma padrão $\\max {c}^\\top {x}$, sujeito a ${Ax}\\leq {b}, {x}\\geq 0$. Resolva de novo em JuMP, utilizando a forma padrão matricial. Compare as duas soluções obtidas."
   ]
  },
  {
   "cell_type": "markdown",
   "metadata": {},
   "source": [
    "### Solução do problem 1:"
   ]
  },
  {
   "cell_type": "code",
   "execution_count": 18,
   "metadata": {},
   "outputs": [
    {
     "data": {
      "text/latex": [
       "$$ \\begin{aligned}\n",
       "\\max\\quad & -u + v - w\\\\\n",
       "\\text{Subject to} \\quad & -5 u + 5 v + 3 w \\leq 10\\\\\n",
       " & 5 u - 5 v - 3 w \\leq 10\\\\\n",
       " & -2 u + 2 v - w \\leq -1\\\\\n",
       " & w \\leq 3\\\\\n",
       " & u \\geq 0\\\\\n",
       " & v \\geq 0\\\\\n",
       " & w \\geq 0\\\\\n",
       "\\end{aligned} $$"
      ]
     },
     "metadata": {},
     "output_type": "display_data"
    },
    {
     "name": "stdout",
     "output_type": "stream",
     "text": [
      "\n",
      "u = 1.00000000005e10\n",
      "v = 1.0e10\n",
      "w = 0.0\n",
      "objective = -0.5\n",
      "Coin0506I Presolve 3 (-1) rows, 3 (0) columns and 9 (-1) elements\n",
      "Clp0006I 0  Obj -0 Primal inf 0.499999 (1) Dual inf 0.999999 (1)\n",
      "Clp0006I 1  Obj -0.5\n",
      "Clp0000I Optimal - objective value -0.5\n",
      "Coin0511I After Postsolve, objective -0.5, infeasibilities - dual 0 (0), primal 0 (0)\n",
      "Clp0032I Optimal objective -0.5 - 1 iterations time 0.002, Presolve 0.00\n"
     ]
    }
   ],
   "source": [
    "using JuMP, Clp\n",
    "\n",
    "m = Model(Clp.Optimizer)\n",
    "@variable(m, u>=0)\n",
    "@variable(m, v>=0)\n",
    "@variable(m, w>=0)\n",
    "@constraint(m, -5u+5v+3w<=10)\n",
    "@constraint(m, 5u-5v-3w<=10)\n",
    "@constraint(m, -2u+2v-w<=-1)\n",
    "@constraint(m, w<=3)\n",
    "@objective(m, Max,-u+v-w)\n",
    "print(m)\n",
    "optimize!(m)\n",
    "println()\n",
    "println(\"u = \", JuMP.value.(u))\n",
    "println(\"v = \", JuMP.value.(v))\n",
    "println(\"w = \", JuMP.value.(w))\n",
    "println(\"objective = \", JuMP.objective_value(m) )"
   ]
  },
  {
   "cell_type": "code",
   "execution_count": 19,
   "metadata": {},
   "outputs": [
    {
     "data": {
      "text/latex": [
       "$$ \\begin{aligned}\n",
       "\\max\\quad & -x_{1} + x_{2} - x_{3}\\\\\n",
       "\\text{Subject to} \\quad & -5 x_{1} + 5 x_{2} + 3 x_{3} \\leq 10\\\\\n",
       " & 5 x_{1} - 5 x_{2} - 3 x_{3} \\leq 10\\\\\n",
       " & -2 x_{1} + 2 x_{2} - x_{3} \\leq -1\\\\\n",
       " & x_{3} \\leq 3\\\\\n",
       " & x_{1} \\geq 0\\\\\n",
       " & x_{2} \\geq 0\\\\\n",
       " & x_{3} \\geq 0\\\\\n",
       "\\end{aligned} $$"
      ]
     },
     "metadata": {},
     "output_type": "display_data"
    },
    {
     "name": "stdout",
     "output_type": "stream",
     "text": [
      "Coin0506I Presolve 3 (-1) rows, 3 (0) columns and 9 (-1) elements\n",
      "Clp0006I 0  Obj -0 Primal inf 0.499999 (1) Dual inf 0.999999 (1)\n",
      "Clp0006I 1  Obj -0.5\n",
      "Clp0000I Optimal - objective value -0.5\n",
      "Coin0511I After Postsolve, objective -0.5, infeasibilities - dual 0 (0), primal 0 (0)\n",
      "Clp0032I Optimal objective -0.5 - 1 iterations time 0.002, Presolve 0.00\n",
      "\n",
      "u = 1.00000000005e10\n",
      "v = 1.0e10\n",
      "w = 0.0\n",
      "objective = -0.5\n"
     ]
    }
   ],
   "source": [
    "# we defined the vector x to be: x = [u;  v;  w]\n",
    "A = [-5 5 3; 5 -5 -3; -2 2 -1; 0 0 1]\n",
    "b = [10; 10; -1; 3]\n",
    "c = [-1; 1; -1]\n",
    "\n",
    "using JuMP, Clp\n",
    "using LinearAlgebra\n",
    "\n",
    "m = Model(Clp.Optimizer)\n",
    "@variable(m, x[1:3] >= 0 )      # specify a vector variable\n",
    "@constraint(m, A*x .<= b )      # the dot in front of <=, which indicates element-wise (vector) inequalities\n",
    "@objective(m, Max, dot(c,x) )   # must use dot(c,x) or (c'*x)[1] to return a scalar\n",
    "\n",
    "optimize!(m)\n",
    "print(m)\n",
    "\n",
    "#println(status)\n",
    "println()\n",
    "println(\"u = \", JuMP.value.(x[1]) )\n",
    "println(\"v = \", JuMP.value.(x[2]) )\n",
    "println(\"w = \", JuMP.value.(x[3]) )\n",
    "println(\"objective = \", JuMP.objective_value(m) )"
   ]
  },
  {
   "cell_type": "markdown",
   "metadata": {},
   "source": [
    "## Problema 2: \n",
    "\n",
    "Considere o LP\n",
    "\\begin{align}\n",
    "& \\text{minimize}\\quad c_1 x_1 + c_2 x_2 + c_3 x_3 \\\\\n",
    "& \\text{sujeito a}\\quad x_1 + x_2 \\geq 1 \\\\\n",
    "& \\qquad x_1 + 2x_2 \\leq 3 \\\\\n",
    "& \\qquad x_1,x_2,x_3 \\geq 0\n",
    "\\end{align}\n",
    "Dê o valor ótimo e o conjunto ótimo para os seguintes valores de $c$: $c=(-1,0,1),c=(0,1,0),c=(0,0,-1)$."
   ]
  },
  {
   "cell_type": "markdown",
   "metadata": {},
   "source": [
    "### Solução do problema 2:"
   ]
  },
  {
   "cell_type": "code",
   "execution_count": 20,
   "metadata": {},
   "outputs": [
    {
     "name": "stdout",
     "output_type": "stream",
     "text": [
      "Coin0506I Presolve 0 (-2) rows, 0 (-3) columns and 0 (-4) elements\n",
      "Clp3002W Empty problem - 0 rows, 0 columns and 0 elements\n",
      "Clp0000I Optimal - objective value -3\n",
      "Coin0511I After Postsolve, objective -3, infeasibilities - dual 0 (0), primal 0 (0)\n",
      "Clp0032I Optimal objective -3 - 0 iterations time 0.002, Presolve 0.00\n"
     ]
    },
    {
     "data": {
      "text/latex": [
       "$$ \\begin{aligned}\n",
       "\\min\\quad & -x_{1} + x_{3}\\\\\n",
       "\\text{Subject to} \\quad & -x_{1} - x_{2} \\leq -1\\\\\n",
       " & x_{1} + 2 x_{2} \\leq 3\\\\\n",
       " & x_{1} \\geq 0\\\\\n",
       " & x_{2} \\geq 0\\\\\n",
       " & x_{3} \\geq 0\\\\\n",
       "\\end{aligned} $$"
      ]
     },
     "metadata": {},
     "output_type": "display_data"
    },
    {
     "name": "stdout",
     "output_type": "stream",
     "text": [
      "[-1, 0, 1]\n",
      "x1 = 3.0\n",
      "x2 = 0.0\n",
      "x3 = 0.0\n",
      "objective = -3.0\n",
      "Coin0506I Presolve 0 (-2) rows, 0 (-3) columns and 0 (-4) elements\n",
      "Clp3002W Empty problem - 0 rows, 0 columns and 0 elements\n",
      "Clp0000I Optimal - objective value 0\n",
      "Coin0511I After Postsolve, objective 0, infeasibilities - dual 0 (0), primal 0 (0)\n",
      "Clp0032I Optimal objective 0 - 0 iterations time 0.002, Presolve 0.00\n"
     ]
    },
    {
     "data": {
      "text/latex": [
       "$$ \\begin{aligned}\n",
       "\\min\\quad & x_{2}\\\\\n",
       "\\text{Subject to} \\quad & -x_{1} - x_{2} \\leq -1\\\\\n",
       " & x_{1} + 2 x_{2} \\leq 3\\\\\n",
       " & x_{1} \\geq 0\\\\\n",
       " & x_{2} \\geq 0\\\\\n",
       " & x_{3} \\geq 0\\\\\n",
       "\\end{aligned} $$"
      ]
     },
     "metadata": {},
     "output_type": "display_data"
    },
    {
     "name": "stdout",
     "output_type": "stream",
     "text": [
      "[0, 1, 0]\n",
      "x1 = 3.0\n",
      "x2 = 0.0\n",
      "x3 = 0.0\n",
      "objective = 0.0\n",
      "Coin0508I Presolve thinks problem is unbounded\n",
      "Clp3003W Analysis indicates model infeasible or unbounded\n",
      "Clp0006I 0  Obj 0 Primal inf 0.9999999 (1) Dual inf 0.9999999 (1)\n",
      "Clp0006I 1  Obj -1e+10\n",
      "Clp0006I 1  Obj -5e+10\n",
      "Clp0002I Dual infeasible - objective value -5e+10\n",
      "Clp0032I DualInfeasible objective -5e+10 - 1 iterations time 0.002\n"
     ]
    },
    {
     "data": {
      "text/latex": [
       "$$ \\begin{aligned}\n",
       "\\min\\quad & -x_{3}\\\\\n",
       "\\text{Subject to} \\quad & -x_{1} - x_{2} \\leq -1\\\\\n",
       " & x_{1} + 2 x_{2} \\leq 3\\\\\n",
       " & x_{1} \\geq 0\\\\\n",
       " & x_{2} \\geq 0\\\\\n",
       " & x_{3} \\geq 0\\\\\n",
       "\\end{aligned} $$"
      ]
     },
     "metadata": {},
     "output_type": "display_data"
    },
    {
     "name": "stdout",
     "output_type": "stream",
     "text": [
      "[0, 0, -1]\n",
      "x1 = 0.0\n",
      "x2 = 0.0\n",
      "x3 = 5.0e10\n",
      "objective = -5.0e10\n"
     ]
    }
   ],
   "source": [
    "# we defined the vector x to be: x = [u;  v;  w]\n",
    "A = [-1 -1 0; 1 2 0]\n",
    "b = [-1; 3]\n",
    "cs = [[-1; 0; 1],[0; 1; 0],[0; 0; -1]]\n",
    "\n",
    "using JuMP, Clp\n",
    "using LinearAlgebra\n",
    "\n",
    "for c in cs\n",
    "    m = Model(Clp.Optimizer)\n",
    "    @variable(m, x[1:3] >= 0 )      # specify a vector variable\n",
    "    @constraint(m, A*x .<= b )      # the dot in front of <=, which indicates element-wise (vector) inequalities\n",
    "    @objective(m, Min, dot(c,x) )   # must use dot(c,x) or (c'*x)[1] to return a scalar\n",
    "\n",
    "    optimize!(m)\n",
    "    print(m)\n",
    "\n",
    "    #println(status)\n",
    "    println(c)\n",
    "    println(\"x1 = \", JuMP.value.(x[1]) )\n",
    "    println(\"x2 = \", JuMP.value.(x[2]) )\n",
    "    println(\"x3 = \", JuMP.value.(x[3]) )\n",
    "    println(\"objective = \", JuMP.objective_value(m) )\n",
    "end"
   ]
  },
  {
   "cell_type": "markdown",
   "metadata": {},
   "source": [
    "## Problema 3 (Revisão de álgebra linear):\n",
    "\n",
    "Escreva as afirmações abaixo na linguagem de matrizes. Exemplo: A afirmação \"Toda coluna de $C$ é uma combinação linear das colunas de $B$ pode ser escrita em linguagem matricial como $C = BF$ para alguma matriz $F$. Observações: (i) Você pode supor que todas as matrizes que você utiliza têm as dimensões apropriadas; (ii) pode existir mais de uma resposta correta, basta dar qualquer uma!\n",
    "- (a) Para cada $i$, linha $i$ de $Z$ é uma combinação linear das linhas $i, \\ldots , n$ de $Y$.\n",
    "- (b) $W$ é obtida a partir da matriz $V$ permutando colunas pares e ímpares adjacentes (i.e., $1$ e $2$, $3$ e $4$, ...)\n",
    "- (c) Cada coluna de $P$ faz um ângulo agudo com cada coluna de $Q$.\n",
    "- (d) Cada coluna de $P$ faz um ângulo agudo com cada coluna correspondente de $Q$.\n",
    "- (e) As primeiras $k$ colunas de $A$ são ortogonais às demais colunas de $A$."
   ]
  },
  {
   "cell_type": "markdown",
   "metadata": {},
   "source": [
    "### Solução do problema 3:"
   ]
  },
  {
   "cell_type": "markdown",
   "metadata": {},
   "source": [
    "(a) $Z_{i,:} = T_{i,:} \\cdot F_{i}$\n",
    "onde $Z_{i,:}$ é a linha $i$ da matriz $Z$, $Y_{i,:}$ é a matriz formada pelas linhas $i$ até $n$ da matriz $Y$, e $F_i$ é um vetor de coeficientes.\n",
    "\n",
    "\n",
    "(b) Isso pode ser feito usandi uma matriz de permutação $P$: $W = VP$ onde $P$ é uma matriz de permutação que reorganiza as colunas de $V$ como especificado.\n",
    "\n",
    "(c) Isso significa que o produto escalar entre cada par de colunas de $P$ e $Q$ é positivo: $P^T Q > 0$ onde $P^T$ é a matriz transposta de $P$.\n",
    "\n",
    "(d) Isso significa que o produto escalar entre cada coluna de $P$ e a coluna correspondente de $Q$ é positivo: $P^T Q > 0$ onde $P^T$ é a matriz transposta de $P$.\n",
    "\n",
    "(e) Isso significa que as colunas das primeiras $k$ colunas de $A$ são ortogonais (produto escalar é zero) às colunas que vêm após a $k$-ésima coluna:\n",
    "$A[:,1:k]^T A[:,k+1 :] = 0$\n",
    "onde $A[:, 1:k]$ representa as primeiras $k$ colunas de $A$, e $A[:, k+1:]$ representa as colunas após a $k$-ésima coluna de $A$."
   ]
  },
  {
   "cell_type": "markdown",
   "metadata": {},
   "source": [
    "## Problema 4 (Hiperplanos e semi-espaços):"
   ]
  },
  {
   "cell_type": "markdown",
   "metadata": {},
   "source": [
    "- (a) Deriva uma fórmula para a distância entre dois hiperplanos paralelos $\\{x \\in {\\mathbb R}^n : a^T x = b_1\\}$ e $\\{x \\in {\\mathbb R}^n : a^T x = b_2\\}$?\n",
    "- (b) Dê condições para que o semi-espaço $H_1 = \\{x \\in {\\mathbb R}^n : a_1^T x = b_1\\}$ esteja contido em $H_2 = \\{x \\in {\\mathbb R}^n : a_2^T x = b_2\\}$, justificando sua resposta."
   ]
  },
  {
   "cell_type": "markdown",
   "metadata": {},
   "source": [
    "### Solução do problema 4:\n"
   ]
  },
  {
   "cell_type": "markdown",
   "metadata": {},
   "source": [
    "(a) Foi utilizado os seguintes links como estudo da questão: https://www.youtube.com/watch?v=a7Hts6EDw3Ye e http://leg.ufpr.br/~ara/teach/svm/02_fundamentos.html .\n",
    "\n",
    "$||x_2 - x_1|| = \\frac{|b_2 - b_1|}{||a||}$\n",
    "\n",
    "(b) $a_1 = a_2$ e $b_1 \\leq b_2$, porque os hiperplanos tem que ser paralelos. Além disso, os hiperplanos tem que ser iguais ou o hiperplano $H_1$ tem que estar abaixo de $H_2$.\n"
   ]
  },
  {
   "cell_type": "markdown",
   "metadata": {},
   "source": [
    "## Problema 5 (Poliédros): \n",
    "\n",
    "Quais dos conjuntos $S$ definidos abaixo são poliédros? Se possível, escreva $S$ na forma $S = \\{x : Ax \\leq b, Cx = d\\}$.\n",
    "- (a) $S = \\{y_1 a_1 + y_2 a_2 : -1 \\leq y_1 \\leq 1, -1 \\leq y_2 \\leq 1 \\}$, sendo $a_1, a_2$ vetores linearmente independentes em ${\\mathbb R}^n$.\n",
    "- (b) $S = \\{x \\in {\\mathbb R}^n : x \\geq 0, {\\mathbb 1}^T x = 1, \\sum_{i=1}^n x_i a_i = b_1, \\sum_{i=1}^n x_i a_i^2 = b_2\\}$, sendo $a_1, \\ldots , a_n \\in {\\mathbb R}$ e $b_1,b_2 \\in {\\mathbb R}$.\n",
    "- (c) $S = \\{x \\in {\\mathbb R}^n : x \\geq 0,x^T y \\leq 1,~\\text{para todo}~y~\\text{tal que}~\\|y\\|_2 = 1 \\}$.\n",
    "- (d) $S = \\{x \\in {\\mathbb R}^n : x \\geq 0,x^T y \\leq 1,~\\text{para todo}~y~\\text{tal que}~\\|y\\|_1 = 1 \\}$."
   ]
  },
  {
   "cell_type": "markdown",
   "metadata": {},
   "source": [
    "### Solução do problem 5:\n",
    "\n",
    "\n"
   ]
  },
  {
   "cell_type": "markdown",
   "metadata": {},
   "source": [
    "Os conjuntos $S$ que são poliedros são \n",
    "\n",
    "(b) S = $\\{x: \\begin{bmatrix} -I \\end{bmatrix} x \\leq \\begin{bmatrix} \\vec{0} \\end{bmatrix},\\begin{bmatrix}\\vec{1}^T \\\\ \\vec{a}^T \\\\ \\vec{(a^2)}^T\\end{bmatrix} x = \\begin{bmatrix} 1 \\\\ b_1 \\\\ b_2 \\end{bmatrix}\\}$\n",
    "\n",
    "(d) S = $\\{x: \\begin{bmatrix} -I \\\\ I \\\\ -I \\end{bmatrix} x \\leq \\begin{bmatrix}\\vec{0} \\\\ \\vec{1} \\\\ \\vec{1} \\end{bmatrix} \\}$"
   ]
  },
  {
   "cell_type": "markdown",
   "metadata": {
    "collapsed": true
   },
   "source": [
    "## Problema 6 (Centro de Chebyshev)\n",
    "Encontre o centro e o raio do maior círculo que possa ser inscrito no poliédro descrito pelas inequações $Ax \\leq b$, sendo $x \\in {\\mathbb R}^2$, $A = \\begin{bmatrix} -0.26 & 0.97\\\\0.42 & -0.91\\\\0.91 & 0.42\\\\-0.82 & - 0.57\\end{bmatrix}$ e $b = \\begin{bmatrix} 5.0\\\\1.0\\\\8.0\\\\-1.5\\end{bmatrix}$. O que acontece (à solução encontrada pelo JuMP) se acresecentar a inequação $[1 \\quad 0] \\leq -3$ às quatro inequações já especificadas (i.e., $Ax\\leq b$)? Explique sua resposta."
   ]
  },
  {
   "cell_type": "markdown",
   "metadata": {},
   "source": [
    "### Solução do problem 6:"
   ]
  },
  {
   "cell_type": "code",
   "execution_count": 21,
   "metadata": {},
   "outputs": [
    {
     "name": "stdout",
     "output_type": "stream",
     "text": [
      "The coordinates of the Chebyshev center are: [2.8762644746445765, 3.1651832449534725]\n",
      "The largest possible radius is: 2.6662932476616845\n",
      "Coin0506I Presolve 4 (0) rows, 3 (0) columns and 12 (0) elements\n",
      "Clp0006I 0  Obj 0 Primal inf 1.502029 (1) Dual inf 0.9999999 (1)\n",
      "Clp0006I 3  Obj 0.15306835\n",
      "Clp0006I 3  Obj 2.0551273e+10 Primal inf 8.151635e+10 (2)\n",
      "Clp0006I 6  Obj 2.6662932\n",
      "Clp0000I Optimal - objective value 2.6662932\n",
      "Clp0032I Optimal objective 2.666293248 - 6 iterations time 0.002\n"
     ]
    }
   ],
   "source": [
    "using JuMP\n",
    "using Clp\n",
    "using LinearAlgebra\n",
    "\n",
    "A = [-0.26 0.97; 0.42 -0.91; 0.91 0.42; -0.82 -0.57]\n",
    "b = [5; 1; 8; -1.5]\n",
    "\n",
    "m = Model(Clp.Optimizer)\n",
    "@variable(m, r >= 0)           # radius\n",
    "@variable(m, x[1:2]) # coordinates of center\n",
    "for i = 1:size(A,1)\n",
    "    @constraint(m, dot(A[i,:],x) + r*norm(A[i,:]) <= b[i])\n",
    "end\n",
    "@objective(m, Max, r)     # maximize radius\n",
    "\n",
    "optimize!(m)\n",
    "\n",
    "x1,x2 = JuMP.value.(x)\n",
    "r = JuMP.objective_value(m)\n",
    "println(\"The coordinates of the Chebyshev center are: \",[x1, x2])\n",
    "println(\"The largest possible radius is: \", r)"
   ]
  },
  {
   "cell_type": "code",
   "execution_count": 23,
   "metadata": {},
   "outputs": [
    {
     "name": "stdout",
     "output_type": "stream",
     "text": [
      "Coin0507I Presolve determined that the problem was infeasible with tolerance of 1e-08\n",
      "Clp3003W Analysis indicates model infeasible or unbounded\n",
      "Clp0006I 0  Obj 0 Primal inf 4.5020289 (2) Dual inf 0.9999999 (1)\n",
      "Clp0006I 3  Obj -0.57785486 Primal inf 0.57785476 (1)\n",
      "Clp0001I Primal infeasible - objective value -0.57785486\n",
      "Clp0032I PrimalInfeasible objective -0.5778548563 - 3 iterations time 0.002\n"
     ]
    },
    {
     "ename": "LoadError",
     "evalue": "Primal solution not available",
     "output_type": "error",
     "traceback": [
      "Primal solution not available",
      "",
      "Stacktrace:",
      "  [1] error(s::String)",
      "    @ Base .\\error.jl:35",
      "  [2] get(model::Clp.Optimizer, attr::MathOptInterface.VariablePrimal, x::MathOptInterface.VariableIndex)",
      "    @ Clp C:\\Users\\Lucas\\.julia\\packages\\Clp\\gKYi8\\src\\MOI_wrapper\\MOI_wrapper.jl:549",
      "  [3] get(model::MathOptInterface.Utilities.CachingOptimizer{Clp.Optimizer, MathOptInterface.Utilities.UniversalFallback{Clp.OptimizerCache}}, attr::MathOptInterface.VariablePrimal, index::MathOptInterface.VariableIndex)",
      "    @ MathOptInterface.Utilities C:\\Users\\Lucas\\.julia\\packages\\MathOptInterface\\tWT4o\\src\\Utilities\\cachingoptimizer.jl:911",
      "  [4] get(b::MathOptInterface.Bridges.LazyBridgeOptimizer{MathOptInterface.Utilities.CachingOptimizer{Clp.Optimizer, MathOptInterface.Utilities.UniversalFallback{Clp.OptimizerCache}}}, attr::MathOptInterface.VariablePrimal, index::MathOptInterface.VariableIndex)",
      "    @ MathOptInterface.Bridges C:\\Users\\Lucas\\.julia\\packages\\MathOptInterface\\tWT4o\\src\\Bridges\\bridge_optimizer.jl:1195",
      "  [5] get(model::MathOptInterface.Utilities.CachingOptimizer{MathOptInterface.Bridges.LazyBridgeOptimizer{MathOptInterface.Utilities.CachingOptimizer{Clp.Optimizer, MathOptInterface.Utilities.UniversalFallback{Clp.OptimizerCache}}}, MathOptInterface.Utilities.UniversalFallback{MathOptInterface.Utilities.Model{Float64}}}, attr::MathOptInterface.VariablePrimal, index::MathOptInterface.VariableIndex)",
      "    @ MathOptInterface.Utilities C:\\Users\\Lucas\\.julia\\packages\\MathOptInterface\\tWT4o\\src\\Utilities\\cachingoptimizer.jl:911",
      "  [6] _moi_get_result(::MathOptInterface.Utilities.CachingOptimizer{MathOptInterface.Bridges.LazyBridgeOptimizer{MathOptInterface.Utilities.CachingOptimizer{Clp.Optimizer, MathOptInterface.Utilities.UniversalFallback{Clp.OptimizerCache}}}, MathOptInterface.Utilities.UniversalFallback{MathOptInterface.Utilities.Model{Float64}}}, ::MathOptInterface.VariablePrimal, ::Vararg{Any})",
      "    @ JuMP C:\\Users\\Lucas\\.julia\\packages\\JuMP\\KiENn\\src\\optimizer_interface.jl:642",
      "  [7] get(model::Model, attr::MathOptInterface.VariablePrimal, v::VariableRef)",
      "    @ JuMP C:\\Users\\Lucas\\.julia\\packages\\JuMP\\KiENn\\src\\optimizer_interface.jl:682",
      "  [8] value(v::VariableRef; result::Int64)",
      "    @ JuMP C:\\Users\\Lucas\\.julia\\packages\\JuMP\\KiENn\\src\\variables.jl:1297",
      "  [9] value",
      "    @ C:\\Users\\Lucas\\.julia\\packages\\JuMP\\KiENn\\src\\variables.jl:1296 [inlined]",
      " [10] _broadcast_getindex_evalf",
      "    @ .\\broadcast.jl:683 [inlined]",
      " [11] _broadcast_getindex",
      "    @ .\\broadcast.jl:656 [inlined]",
      " [12] getindex",
      "    @ .\\broadcast.jl:610 [inlined]",
      " [13] macro expansion",
      "    @ .\\broadcast.jl:974 [inlined]",
      " [14] macro expansion",
      "    @ .\\simdloop.jl:77 [inlined]",
      " [15] copyto!",
      "    @ .\\broadcast.jl:973 [inlined]",
      " [16] copyto!",
      "    @ .\\broadcast.jl:926 [inlined]",
      " [17] copy",
      "    @ .\\broadcast.jl:898 [inlined]",
      " [18] materialize(bc::Base.Broadcast.Broadcasted{Base.Broadcast.DefaultArrayStyle{1}, Nothing, typeof(value), Tuple{Vector{VariableRef}}})",
      "    @ Base.Broadcast .\\broadcast.jl:873",
      " [19] top-level scope",
      "    @ In[23]:14"
     ]
    }
   ],
   "source": [
    "A = [-0.26 0.97; 0.42 -0.91; 0.91 0.42; -0.82 -0.57; 1 0]\n",
    "b = [5; 1; 8; -1.5; -3]\n",
    "\n",
    "m = Model(Clp.Optimizer)\n",
    "@variable(m, r >= 0)           # radius\n",
    "@variable(m, x[1:2]) # coordinates of center\n",
    "for i = 1:size(A,1)\n",
    "    @constraint(m, dot(A[i,:],x) + r*norm(A[i,:]) <= b[i])\n",
    "end\n",
    "@objective(m, Max, r)     # maximize radius\n",
    "\n",
    "optimize!(m)\n",
    "\n",
    "x1,x2 = JuMP.value.(x)\n",
    "r = JuMP.objective_value(m)\n",
    "println(\"The coordinates of the Chebyshev center are: \",[x1, x2])\n",
    "println(\"The largest possible radius is: \", r)"
   ]
  },
  {
   "cell_type": "markdown",
   "metadata": {},
   "source": [
    "O seguinte texto indica que o poliédro se tornou côncavo: \"Analysis indicates model infeasible or unbounded\""
   ]
  },
  {
   "cell_type": "markdown",
   "metadata": {},
   "source": [
    "## Problema 7 (Geometria de LP)\n",
    "\n",
    "- (a) Determine se $\\bar{x} = (1,1,1,1)$ é vértice do poliédro $P$ definido pelas desigualdades lineares:\n",
    "$$\n",
    "\\begin{bmatrix} -1 & -6 & 1 & 3\\\\-1 & -2 & 7 & 1\\\\0 & 3 & -10 & -1\\\\-6 & -11 & -2 & 12\\\\1 & 6 & -1 & -3\\end{bmatrix} \\begin{bmatrix} x_1 \\\\ x_2 \\\\ x_3 \\\\ x_4 \\end{bmatrix} \\leq \\begin{bmatrix} -3 \\\\ 5 \\\\ -8 \\\\ -7 \\\\ 4 \\end{bmatrix}\n",
    "$$\n",
    "- Se sim, determine um vetor $c$ tal que $\\bar{x}$ seja o minmizador único de $c^T x$ sobre $P$.\n",
    "- (b) mesma pergunta para o poliédro definido pelas desigualdades\n",
    "$$\n",
    "\\begin{bmatrix} 0 & -5 & -2 & -5\\\\-7 & -7 & -2 & -2\\\\-4 & -4 & -7 & -7\\\\-8 & -3 & -3 & -4\\\\-4 & -4 & 2 & -2\\end{bmatrix} \\begin{bmatrix} x_1 \\\\ x_2 \\\\ x_3 \\\\ x_4 \\end{bmatrix} \\leq \\begin{bmatrix} -12 \\\\ -17 \\\\ -22 \\\\ -18 \\\\ -8 \\end{bmatrix}\n",
    "$$\n",
    "e, adicionalmente, a igualdade $8x_1 - 7x_2 - 10x_3 -11x_4 = -20$."
   ]
  },
  {
   "cell_type": "markdown",
   "metadata": {},
   "source": [
    "### Solução do problem 7:"
   ]
  },
  {
   "cell_type": "markdown",
   "metadata": {},
   "source": [
    "(a) $\\bar{x} = (1,1,1,1)$ é vértice do poliédro $P$, porque satisfaz 4 das igualdades."
   ]
  },
  {
   "cell_type": "code",
   "execution_count": null,
   "metadata": {},
   "outputs": [],
   "source": []
  },
  {
   "cell_type": "markdown",
   "metadata": {},
   "source": [
    "## Problema 8 (Grid elétrico com armazenamento de energia)\n",
    "\n",
    "A cidade Varre-Sai compra sua energia elétrica da utilidade Ampla que cobre por hora. Se for utilizado menos de 50MWh durante uma determinada hora do dia,  o custo é 100 reais por MWh. Qualquer excedente (além de 50 MWh) durante esta hora custa 400 reais por MWh. A energia máxima que Ampla pode fornecer (em qualquer intervalo de uma hora) é 75 MWh. As tabelas abaixo mostram a demanda diária média hora a hora para a cidade Varre-Sai durante o mes de janeiro.\n",
    "\n",
    "| Hora do dia (manhã) | 01 | 02 | 03 | 04 | 05 | 06 | 07 | 08 | 09 | 10| 11| 12|\n",
    "|:-------------------:|:-:|:-:|:-:|:-:|:-:|:-:|:-:|:-:|:-:|:-:|:-:|:-:|\n",
    "| Demanda (MWh)       | 43| 40| 36| 36| 35| 38| 41| 46| 49| 48| 47| 47|\n",
    "\n",
    "| Hora do dia ( tarde )| 13| 14| 15| 16| 17| 18| 19| 20| 21| 22| 23| 24|\n",
    "|:-------------------:|:-:|:-:|:-:|:-:|:-:|:-:|:-:|:-:|:-:|:-:|:-:|:-:|\n",
    "| Demanda (MWh)       | 48| 46| 45| 47| 50| 63| 75| 75| 72| 66| 57| 50|\n",
    "\n",
    "O prefeito de Varre-Sai está preocupado com o gasto alto na parte da tarde e o risco de blecautes por volta de 19h por conta da demanda média alta (perigosamente) próxima ao limite de 75 MWh estipulado pela Ampla.\n",
    "\n",
    "Para contornar estes problemas potenciais, o prefeito comprou uma bateria grande com capacidade de armazenamento de 30 MWh. A ideia seria comprar mais energia (do que a demanda na primeira parte do dia, quando energia custa menos), armazenar na bateria e utilizar nos horários de pico mais tarde, quando tanto a demanda como o preço atingem valores altos.\n",
    "1. Quanto dinheiro a cidade de Varre-Sai poderia economizar graças a bateria? Suponha que a bateria começa o dia completamente descarregada, e que, para maior segurança em relação aos  blecautes, limita-se a 65 MWh a quantidade de eletricidade comprada por hora.\n",
    "2. Quanto dinheiro seria economizado se a bateria tivesse capacidade infinita?\n",
    "3. Plote um gráfico que mostra:\n",
    "     1. a demanda de energia típica (da tabela) versus a hora do dia.\n",
    "     2. a eletricidade comprada utilizando a estratégia encontrada no item 1 versus a hora do dia (plote ambos os gráficos nos mesmos eixos)."
   ]
  },
  {
   "cell_type": "markdown",
   "metadata": {},
   "source": [
    "### Solução do problem 8:"
   ]
  },
  {
   "cell_type": "code",
   "execution_count": null,
   "metadata": {},
   "outputs": [],
   "source": []
  },
  {
   "cell_type": "markdown",
   "metadata": {},
   "source": [
    "## Problema 9 (Construção de um estádio esportivo [sob regime de anti-propina!])\n",
    "Uma cidade pequena deseja construir um estádio (também pequeno). Após licitação, uma empreiteira ganha o contrato e deseja cumprir a tarefa no menor tempo possível. Todas as grandes tarefas estão listadas na tabela abaixo. Algumas podem ser iniciadas apenas quando as tarefas predecessoras tiverem sido concluídas e esta dependência está registrada na quarta coluna.\n",
    "\n",
    "|Tarefa | Descrição | Duração (em semanas)| Tarefas predecessoras | Redução máxima (em semanas)| Custo da redução (R\\$1k/semana) |\n",
    "|:---:|:----------:|:------------------:|:------------:|:---------------------------:|:---------------------------:|\n",
    "|1 |Instalação no local de construção |2 | não há | 0 | -- |\n",
    "| 2| Terraplenagem | 16 | 1 | 3 | 30 |\n",
    "|3 |Construção da fundação | 9 | 2 | 1 | 26 |\n",
    "| 4 |Ruas de acesso e outras redes | 8 | 2 | 2 | 12 |\n",
    "| 5 | Construir o porão | 10 | 3 | 2 | 17 |\n",
    "| 6 | Piso principal | 6 | 4,5 | 1 | 15 |\n",
    "| 7 | Divisão do vestiário | 2 | 4 | 1 | 8 |\n",
    "| 8 | Instalação elétrica nas arquibancadas | 2 | 6 | 0 | -- |\n",
    "|9  | Construção da cobertura | 9 | 4,6 | 2 | 42 |\n",
    "|10 | Iluminação do estádio | 5 | 4 | 1 | 21 |\n",
    "| 11 | Instalações nas arquibancadas | 3 | 6 | 1 |18 |\n",
    "| 12 | Impermeabilização da cobertura | 2 | 9 | 0 | -- |\n",
    "| 13 | Acabamento do vestiário | 1 | 7 | 0 | -- |\n",
    "| 14 | Construção da bilheteria | 7 | 2 | 2 | 22 |\n",
    "| 15 | Ruas de acesso secundárias | 4 | 4,14 | 2 | 12 |\n",
    "|16  | Placar e altofalantes |3 | 8,11,14 | 1 | 6 |\n",
    "|17 | Gramado e acessórios para esportes | 9 | 12 | 3 | 16 |\n",
    "|18 | Entrega do estádio | 1 | 17 | 0 | -- |\n",
    "\n",
    "As perguntas que a empreiteira quer que sejam respondidas são as seguintes:\n",
    "1. Qual a data mais cedo para o término da construção? Note que as últimas duas colunas não são  relevantes para este item. \n",
    "2. Para algumas tarefas a empreiteira pode contratar operários extra e alugar mais equipamento para reduzir o tempo total. As últimas duas colunas mostram o número máximo de semanas poupadas por tarefa e o custo adicional associado por semana, por conta do trabalho extra. Plote um gráfico de compromisso (\"tradeoff\") mostrando o custo extra em função do número de semanas poupadas.\n",
    "3. A prefeitura da cidade gostaria que a obra fosse terminada antes da data combinada e anunciada (resposta do item  1). Como incentivo, a prefeitura propõe pagar um bônus de R\\$30k por cada semana de antecipação da data de término da obra. Quando terminará o projeto se a empreiteira deseja maximizar seu lucro?"
   ]
  },
  {
   "cell_type": "markdown",
   "metadata": {},
   "source": [
    "### Solução do problem 9:"
   ]
  },
  {
   "cell_type": "markdown",
   "metadata": {},
   "source": [
    "1."
   ]
  },
  {
   "cell_type": "code",
   "execution_count": 28,
   "metadata": {},
   "outputs": [
    {
     "name": "stdout",
     "output_type": "stream",
     "text": [
      "Number of tasks = 18\n",
      "[1, 2, 3, 4, 5, 6, 7, 8, 9, 10, 11, 12, 13, 14, 15, 16, 17, 18]\n",
      "Number of durations = 18\n",
      "Length of predecessor list = 18\n",
      "Dict{Int64, Vector}(5 => [3], 16 => [8, 11, 14], 7 => [4], 12 => [9], 8 => [6], 17 => [12], 1 => Any[], 4 => [2], 6 => [4, 5], 13 => [7], 2 => [1], 10 => [4], 11 => [6], 9 => [4, 6], 15 => [4, 14], 18 => [17], 14 => [2], 3 => [2])\n"
     ]
    }
   ],
   "source": [
    "# this array stores the task names (:a, :b, ..., :x)\n",
    "tasks = [1,2,3,4,5,6,7,8,9,10,11,12,13,14,15,16,17,18]\n",
    "println(\"Number of tasks = \",length(tasks))\n",
    "println(tasks)\n",
    "# this dictionary stores the project durations\n",
    "dur = [2,16,9,8,10,6,2,2,9,5,3,2,1,7,4,3,9,1]\n",
    "duration = Dict(zip(tasks,dur))\n",
    "println(\"Number of durations = \",length(dur))\n",
    "\n",
    "# this dictionary stores the projects that a given project depends on (ancestors)\n",
    "pre = ( [], [1], [2], [2], [3], [4,5], [4], [6], [4,6], [4], [6], [9],\n",
    "    [7], [2], [4,14], [8,11,14], [12], [17] )\n",
    "println(\"Length of predecessor list = \", length(pre))\n",
    "pred = Dict(zip(tasks,pre)); #Predecessor graph information\n",
    "println(pred)"
   ]
  },
  {
   "cell_type": "code",
   "execution_count": 27,
   "metadata": {},
   "outputs": [
    {
     "name": "stdout",
     "output_type": "stream",
     "text": [
      "1-dimensional DenseAxisArray{Float64,1,...} with index sets:\n",
      "    Dimension 1, [1, 2, 3, 4, 5, 6, 7, 8, 9, 10, 11, 12, 13, 14, 15, 16, 17, 18]\n",
      "And data, a 18-element Vector{Float64}:\n",
      "  0.0\n",
      "  2.0\n",
      " 18.0\n",
      " 18.0\n",
      " 27.0\n",
      " 37.0\n",
      " 26.0\n",
      " 43.0\n",
      " 43.0\n",
      " 26.0\n",
      " 43.0\n",
      " 52.0\n",
      " 28.0\n",
      " 18.0\n",
      " 26.0\n",
      " 46.0\n",
      " 54.0\n",
      " 63.0\n",
      "minimum duration: 64.0\n",
      "Coin0506I Presolve 0 (-23) rows, 0 (-18) columns and 0 (-45) elements\n",
      "Clp3002W Empty problem - 0 rows, 0 columns and 0 elements\n",
      "Clp0000I Optimal - objective value 64\n",
      "Coin0511I After Postsolve, objective 64, infeasibilities - dual 0 (0), primal 0 (0)\n",
      "Clp0032I Optimal objective 64 - 0 iterations time 0.002, Presolve 0.00\n"
     ]
    }
   ],
   "source": [
    "using JuMP,Clp\n",
    "m = Model(Clp.Optimizer)\n",
    "\n",
    "@variable(m, tstart[tasks])\n",
    "\n",
    "# one-line implementation of the constraints:\n",
    "#@constraint(m, link[i in tasks, j in pred[i]], tstart[i] >= tstart[j] + duration[j])\n",
    "\n",
    "for i in tasks\n",
    "    for j in pred[i]\n",
    "        @constraint(m, tstart[i] >= tstart[j] + duration[j])\n",
    "    end\n",
    "end\n",
    "@constraint(m, tstart[1] == 0)\n",
    "@objective(m, Min, tstart[18] + duration[18])     # total duration is start time of last task + duration of last task.\n",
    "\n",
    "optimize!(m)\n",
    "println(JuMP.value.(tstart))\n",
    "println(\"minimum duration: \", JuMP.objective_value(m))"
   ]
  },
  {
   "cell_type": "markdown",
   "metadata": {},
   "source": [
    "## Problema 10: (Clássico: dieta ótima)"
   ]
  },
  {
   "cell_type": "markdown",
   "metadata": {},
   "source": [
    "Suponha que uma certa dieta alimentar esteja baseada nos alimentos (em parêntesis vemos as unidades utilizadas): \n",
    "leite desnatado (litro) , carne magra de boi (Kg), carne de frango (kg) e batata doce (100 g). \n",
    "Sabendo-se que os requisitos nutricionais serão expressos em termos de vitaminas A,C, e D e controlados por \n",
    "suas quantidades mínimas (em miligramas), uma vez que são indispensáveis à preservação da saúde da pessoa \n",
    "que estará se submetendo a dieta. A Tabela abaixo resume a quantidade de cada vitamina em disponibilidade \n",
    "**em cada unidade considerada dos alimentos**, sua necessidade diária para a boa saúde de uma pessoa e o custo \n",
    "(em reais) de cada unidade do alimento considerado. Modele e resolva o problema de forma a minimizar os gastos com a \n",
    "compra dos alimentos, obedecendo às quantidades mínimas recomendadas em relação às vitaminas.\n",
    "\n",
    "Tabela: Dados do problema da dieta\n",
    "\n",
    "|Alim.$\\rightarrow$|leite | carne |frango | batata | Qtd. Mín. |\n",
    "|------------------|------|-------|-------|--------|-----------|\n",
    "|Vit.$\\downarrow$ |  \n",
    "|A |2 |2 |5 |4 |11 |\n",
    "|C |50 | 20 | 10 | 45| 70 |\n",
    "|D |80 |70 |10 |60 |250|\n",
    "| |\n",
    "|Custo $\\rightarrow$ |5 |40 |20 |2 |\n",
    "\n",
    "\n"
   ]
  },
  {
   "cell_type": "markdown",
   "metadata": {},
   "source": [
    "### Solução do problem 10:"
   ]
  },
  {
   "cell_type": "code",
   "execution_count": 26,
   "metadata": {},
   "outputs": [
    {
     "name": "stdout",
     "output_type": "stream",
     "text": [
      "Coin0506I Presolve 3 (0) rows, 4 (0) columns and 12 (0) elements\n",
      "Clp0006I 0  Obj 0 Primal inf 6.7249997 (3)\n",
      "Clp0006I 1  Obj 8.3333333\n",
      "Clp0000I Optimal - objective value 8.3333333\n",
      "Clp0032I Optimal objective 8.333333333 - 1 iterations time 0.002\n"
     ]
    },
    {
     "data": {
      "text/latex": [
       "$$ \\begin{aligned}\n",
       "\\min\\quad & 5 x_{1} + 40 x_{2} + 20 x_{3} + 2 x_{4}\\\\\n",
       "\\text{Subject to} \\quad & 2 x_{1} + 2 x_{2} + 5 x_{3} + 4 x_{4} \\geq 11\\\\\n",
       " & 50 x_{1} + 20 x_{2} + 10 x_{3} + 45 x_{4} \\geq 70\\\\\n",
       " & 80 x_{1} + 70 x_{2} + 10 x_{3} + 60 x_{4} \\geq 250\\\\\n",
       " & x_{1} \\geq 0\\\\\n",
       " & x_{2} \\geq 0\\\\\n",
       " & x_{3} \\geq 0\\\\\n",
       " & x_{4} \\geq 0\\\\\n",
       "\\end{aligned} $$"
      ]
     },
     "metadata": {},
     "output_type": "display_data"
    },
    {
     "name": "stdout",
     "output_type": "stream",
     "text": [
      "\n",
      "leite = 0.0\n",
      "carne = 0.0\n",
      "frango = 0.0\n",
      "batata = 4.166666666666666\n",
      "objective = 8.333333333333332\n"
     ]
    }
   ],
   "source": [
    "# we defined the vector x to be: x = [u;  v;  w]\n",
    "A = [2 2 5 4;50 20 10 45;80 70 10 60]\n",
    "b = [11; 70; 250]\n",
    "c = [5; 40; 20; 2]\n",
    "\n",
    "using JuMP, Clp\n",
    "using LinearAlgebra\n",
    "\n",
    "m = Model(Clp.Optimizer)\n",
    "@variable(m, x[1:4] >= 0 )      # specify a vector variable\n",
    "@constraint(m, A*x .>= b )      # the dot in front of <=, which indicates element-wise (vector) inequalities\n",
    "@objective(m, Min, dot(c,x) )   # must use dot(c,x) or (c'*x)[1] to return a scalar\n",
    "\n",
    "optimize!(m)\n",
    "print(m)\n",
    "\n",
    "#println(status)\n",
    "println()\n",
    "println(\"leite = \", JuMP.value.(x[1]) )\n",
    "println(\"carne = \", JuMP.value.(x[2]) )\n",
    "println(\"frango = \", JuMP.value.(x[3]) )\n",
    "println(\"batata = \", JuMP.value.(x[4]) )\n",
    "println(\"objective = \", JuMP.objective_value(m) )"
   ]
  }
 ],
 "metadata": {
  "@webio": {
   "lastCommId": null,
   "lastKernelId": null
  },
  "anaconda-cloud": {},
  "kernelspec": {
   "display_name": "Julia 1.9.2",
   "language": "julia",
   "name": "julia-1.9"
  },
  "language_info": {
   "file_extension": ".jl",
   "mimetype": "application/julia",
   "name": "julia",
   "version": "1.9.2"
  }
 },
 "nbformat": 4,
 "nbformat_minor": 2
}
