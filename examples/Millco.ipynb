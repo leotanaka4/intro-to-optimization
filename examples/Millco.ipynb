{
 "cells": [
  {
   "cell_type": "markdown",
   "metadata": {},
   "source": [
    "# Lumber transportation problem (J. Reeb and S. Leavengood)\n",
    "\n",
    "Millco has three wood mills and is planning three new logging sites. Each mill has a maximum capacity and each logging site can harvest a certain number of truckloads of lumber per day. The cost of a haul is \\$2/mile of distance. If distances from logging sites to mills are given below, how should the hauls be routed to minimize hauling costs while meeting all demands?\n",
    "\n",
    "| Logging Site | Mill A | Mill B | Mill C | Max loads per day |\n",
    "|:------------:|:------:|:------:|:------:|:-----------------:|\n",
    "| 1            |  8     |  15    |  50    |  20               |\n",
    "| 2            |  10    |  17    |  20    |  30               |\n",
    "| 3            |  30    |  26    |  15    |  45               |\n",
    "| Mill demand  |  30    |  35    |  30    |                   |"
   ]
  },
  {
   "cell_type": "markdown",
   "metadata": {},
   "source": [
    "### Solution"
   ]
  },
  {
   "cell_type": "code",
   "execution_count": 1,
   "metadata": {},
   "outputs": [
    {
     "ename": "ModuleNotFoundError",
     "evalue": "No module named 'Pkg'",
     "output_type": "error",
     "traceback": [
      "\u001b[1;31m---------------------------------------------------------------------------\u001b[0m",
      "\u001b[1;31mModuleNotFoundError\u001b[0m                       Traceback (most recent call last)",
      "Input \u001b[1;32mIn [1]\u001b[0m, in \u001b[0;36m<cell line: 1>\u001b[1;34m()\u001b[0m\n\u001b[1;32m----> 1\u001b[0m \u001b[38;5;28;01mimport\u001b[39;00m \u001b[38;5;21;01mPkg\u001b[39;00m; Pkg\u001b[38;5;241m.\u001b[39madd(\u001b[38;5;124m\"\u001b[39m\u001b[38;5;124mNamedArrays\u001b[39m\u001b[38;5;124m\"\u001b[39m)\n",
      "\u001b[1;31mModuleNotFoundError\u001b[0m: No module named 'Pkg'"
     ]
    }
   ],
   "source": [
    "import Pkg; Pkg.add(\"NamedArrays\")"
   ]
  },
  {
   "cell_type": "code",
   "execution_count": 3,
   "metadata": {},
   "outputs": [
    {
     "name": "stdout",
     "output_type": "stream",
     "text": [
      "3×3 Named Matrix{Int64}\n",
      "Sites ╲ Mills │ :A  :B  :C\n",
      "──────────────┼───────────\n",
      "1             │ 20   0   0\n",
      "2             │ 10  20   0\n",
      "3             │  0  15  30\n",
      "\n",
      "Total cost will be $5760.0\n",
      "Coin0506I Presolve 6 (0) rows, 9 (0) columns and 18 (0) elements\n",
      "Clp0006I 0  Obj 0 Primal inf 190 (6)\n",
      "Clp0006I 5  Obj 5760\n",
      "Clp0000I Optimal - objective value 5760\n",
      "Clp0032I Optimal objective 5760 - 5 iterations time 0.002\n"
     ]
    }
   ],
   "source": [
    "# this solution uses NamedArrays, which are arrays indexed over sets for both x and y dimensions.\n",
    "\n",
    "using JuMP, Clp, NamedArrays\n",
    "\n",
    "sites = [ 1,  2,  3]\n",
    "mills = [:A, :B, :C]\n",
    "\n",
    "cost_per_haul = 4    # don't forget the return trip! Ida ($2) e volta ($2)!\n",
    "\n",
    "dist = NamedArray( [8 15 50; 10 17 20; 30 26 15], (sites,mills), (\"Sites\",\"Mills\") )\n",
    "supply = Dict(zip( sites, [20 30 45] ))\n",
    "demand = Dict(zip( mills, [30 35 30] ))\n",
    "\n",
    "m = Model(Clp.Optimizer)\n",
    "\n",
    "@variable(m, x[sites,mills] >= 0)          # x[i,j] is lumber shipped from site i to mill j.\n",
    "\n",
    "@constraint(m, supply[i in sites], sum(x[i,j] for j in mills) == supply[i] )   # supply constraint\n",
    "@constraint(m, demand[j in mills], sum(x[i,j] for i in sites) == demand[j] )   # demand constraint\n",
    "\n",
    "@objective(m, Min, cost_per_haul*sum( x[i,j]*dist[i,j] for i in sites, j in mills ) )      # minimize transportation cost\n",
    "\n",
    "optimize!(m)\n",
    "\n",
    "# nicely formatted solution\n",
    "solution = NamedArray( Int[JuMP.value.(x[i,j]) for i in sites, j in mills], (sites,mills), (\"Sites\",\"Mills\") )\n",
    "println( solution )\n",
    "println()\n",
    "println(\"Total cost will be \\$\", JuMP.objective_value(m))"
   ]
  },
  {
   "cell_type": "markdown",
   "metadata": {
    "collapsed": true
   },
   "source": [
    "### Compact version of the problem"
   ]
  },
  {
   "cell_type": "code",
   "execution_count": 6,
   "metadata": {},
   "outputs": [
    {
     "data": {
      "text/plain": [
       "3×3 adjoint(::Matrix{Float64}) with eltype Float64:\n",
       " 20.0   0.0   0.0\n",
       " 10.0  20.0   0.0\n",
       "  0.0  15.0  30.0"
      ]
     },
     "metadata": {},
     "output_type": "display_data"
    },
    {
     "name": "stdout",
     "output_type": "stream",
     "text": [
      "Coin0506I Presolve 6 (0) rows, 9 (0) columns and 18 (0) elements\n",
      "Clp0006I 0  Obj 0 Primal inf 190 (6)\n",
      "Clp0006I 5  Obj 5760\n",
      "Clp0000I Optimal - objective value 5760\n",
      "Clp0032I Optimal objective 5760 - 5 iterations time 0.002\n"
     ]
    }
   ],
   "source": [
    "using JuMP, Clp, LinearAlgebra\n",
    "m = Model(Clp.Optimizer)\n",
    "\n",
    "# incidence matrix:\n",
    "A = [ 1  1  1  0  0  0  0  0  0\n",
    "      0  0  0  1  1  1  0  0  0\n",
    "      0  0  0  0  0  0  1  1  1\n",
    "     -1  0  0 -1  0  0 -1  0  0\n",
    "      0 -1  0  0 -1  0  0 -1  0\n",
    "      0  0 -1  0  0 -1  0  0 -1 ]\n",
    "\n",
    "# supply and demand\n",
    "b = [ 20, 30, 45, -30, -35, -30 ]\n",
    "\n",
    "# distances\n",
    "c = [ 8, 15, 50, 10, 17, 20, 30, 26, 15 ]\n",
    "\n",
    "@variable(m, x[1:9] >= 0)\n",
    "@constraint(m, A*x .== b)\n",
    "@objective(m, Min, 4*dot(c,x))\n",
    "\n",
    "optimize!(m)\n",
    "xsol = JuMP.value.(x)\n",
    "display( reshape(xsol,3,3)' ) #Ordem 1A, 1B, 1C, 2A, 2B, 2C, 3A, 3B, 3C"
   ]
  },
  {
   "cell_type": "code",
   "execution_count": null,
   "metadata": {
    "collapsed": true
   },
   "outputs": [],
   "source": []
  }
 ],
 "metadata": {
  "@webio": {
   "lastCommId": null,
   "lastKernelId": null
  },
  "anaconda-cloud": {},
  "kernelspec": {
   "display_name": "Julia 1.9.2",
   "language": "julia",
   "name": "julia-1.9"
  },
  "language_info": {
   "file_extension": ".jl",
   "mimetype": "application/julia",
   "name": "julia",
   "version": "1.9.2"
  }
 },
 "nbformat": 4,
 "nbformat_minor": 1
}
