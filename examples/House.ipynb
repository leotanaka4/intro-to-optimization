{
 "cells": [
  {
   "cell_type": "markdown",
   "metadata": {},
   "source": [
    "# Building a house (Harvard Business Review, 1963)\n",
    "\n",
    "Several tasks must be completed in order to build our house. Each task has a duration, tasks may be worked on simultaneously, but there is also a precedence relation. Some tasks can only be started once other tasks have been completed. The following table shows each task, its duration, and the tasks that must be completed before it starts. How fast can the house be built?\n",
    "![alt text](https://hbr.org/resources/images/article_assets/hbr/6309/63508_A.gif)"
   ]
  },
  {
   "cell_type": "markdown",
   "metadata": {
    "collapsed": true
   },
   "source": [
    "## Problem Data"
   ]
  },
  {
   "cell_type": "code",
   "execution_count": 1,
   "metadata": {},
   "outputs": [
    {
     "name": "stdout",
     "output_type": "stream",
     "text": [
      "Number of tasks = 24\n",
      "Any[:a, :b, :c, :d, :e, :f, :g, :h, :i, :j, :k, :l, :m, :n, :o, :p, :q, :r, :s, :t, :u, :v, :w, :x]\n",
      "Number of durations = 24\n",
      "Length of predecessor list = 24\n",
      "Dict{Any, Vector}(:o => [:l], :b => [:a], :p => [:e], :n => [:l], :j => [:d, :g], :e => [:d], :c => [:b], :h => [:f], :l => [:k], :w => [:v], :x => [:s, :u, :w], :d => [:c], :k => [:i, :j, :h], :s => [:o, :t], :v => [:q, :r], :g => [:f], :u => [:t], :q => [:p], :r => [:c], :a => Any[], :f => [:c], :m => [:l], :i => [:d], :t => [:m, :n])\n"
     ]
    }
   ],
   "source": [
    "# this array stores the task names (:a, :b, ..., :x)\n",
    "tasks = []\n",
    "for i = 'a':'x'\n",
    "    push!(tasks, Symbol(i))    # string(sym) converts back to a string, i.e. string(:hello) returns \"hello\"\n",
    "end\n",
    "println(\"Number of tasks = \",length(tasks))\n",
    "println(tasks)\n",
    "# this dictionary stores the project durations\n",
    "dur = [0, 4, 2, 4, 6, 1, 2, 3, 2, 4, 10, 3, 1, 2, 3, 2, 1, 1, 2, 3, 1, 2, 5, 0]\n",
    "duration = Dict(zip(tasks,dur))\n",
    "println(\"Number of durations = \",length(dur))\n",
    "\n",
    "# this dictionary stores the projects that a given project depends on (ancestors)\n",
    "pre = ( [], [:a], [:b], [:c], [:d], [:c], [:f], [:f], [:d], [:d,:g], [:i,:j,:h], [:k],\n",
    "    [:l], [:l], [:l], [:e], [:p], [:c], [:o,:t], [:m,:n], [:t], [:q,:r], [:v], [:s,:u,:w])\n",
    "println(\"Length of predecessor list = \", length(pre))\n",
    "pred = Dict(zip(tasks,pre)); #Predecessor graph information\n",
    "println(pred)"
   ]
  },
  {
   "cell_type": "markdown",
   "metadata": {},
   "source": [
    "## Problem Model"
   ]
  },
  {
   "cell_type": "code",
   "execution_count": 2,
   "metadata": {},
   "outputs": [
    {
     "name": "stdout",
     "output_type": "stream",
     "text": [
      "1-dimensional DenseAxisArray{Float64,1,...} with index sets:\n",
      "    Dimension 1, Any[:a, :b, :c, :d, :e, :f, :g, :h, :i, :j  …  :o, :p, :q, :r, :s, :t, :u, :v, :w, :x]\n",
      "And data, a 24-element Vector{Float64}:\n",
      "  0.0\n",
      "  0.0\n",
      "  4.0\n",
      "  6.0\n",
      " 10.0\n",
      "  6.0\n",
      "  8.0\n",
      " 11.0\n",
      " 12.0\n",
      " 10.0\n",
      " 14.0\n",
      " 24.0\n",
      " 28.0\n",
      " 27.0\n",
      " 29.0\n",
      " 16.0\n",
      " 18.0\n",
      " 18.0\n",
      " 32.0\n",
      " 29.0\n",
      " 33.0\n",
      " 19.0\n",
      " 29.0\n",
      " 34.0\n",
      "minimum duration: 34.0\n",
      "Coin0506I Presolve 0 (-32) rows, 0 (-24) columns and 0 (-63) elements\n",
      "Clp3002W Empty problem - 0 rows, 0 columns and 0 elements\n",
      "Clp0000I Optimal - objective value 34\n",
      "Coin0511I After Postsolve, objective 34, infeasibilities - dual 0 (0), primal 0 (0)\n",
      "Clp0032I Optimal objective 34 - 0 iterations time 0.022, Presolve 0.02\n"
     ]
    }
   ],
   "source": [
    "using JuMP,Clp\n",
    "m = Model(Clp.Optimizer)\n",
    "\n",
    "@variable(m, tstart[tasks])\n",
    "\n",
    "# one-line implementation of the constraints:\n",
    "#@constraint(m, link[i in tasks, j in pred[i]], tstart[i] >= tstart[j] + duration[j])\n",
    "\n",
    "for i in tasks\n",
    "    for j in pred[i]\n",
    "        @constraint(m, tstart[i] >= tstart[j] + duration[j])\n",
    "    end\n",
    "end\n",
    "@constraint(m, tstart[:a] == 0)\n",
    "@objective(m, Min, tstart[:x] + duration[:x])     # total duration is start time of last task + duration of last task.\n",
    "\n",
    "optimize!(m)\n",
    "println(JuMP.value.(tstart))\n",
    "println(\"minimum duration: \", JuMP.objective_value(m))"
   ]
  },
  {
   "cell_type": "code",
   "execution_count": null,
   "metadata": {},
   "outputs": [],
   "source": []
  }
 ],
 "metadata": {
  "@webio": {
   "lastCommId": null,
   "lastKernelId": null
  },
  "anaconda-cloud": {},
  "kernelspec": {
   "display_name": "Julia 1.7.2",
   "language": "julia",
   "name": "julia-1.7"
  },
  "language_info": {
   "file_extension": ".jl",
   "mimetype": "application/julia",
   "name": "julia",
   "version": "1.7.2"
  }
 },
 "nbformat": 4,
 "nbformat_minor": 1
}
