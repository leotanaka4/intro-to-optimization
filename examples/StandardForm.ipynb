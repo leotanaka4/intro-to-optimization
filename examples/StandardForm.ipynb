{
 "cells": [
  {
   "cell_type": "markdown",
   "metadata": {},
   "source": [
    "# Standard Form conversion\n",
    "\n",
    "Convert the following linear program into standard form:\n",
    "\n",
    "$$\\begin{aligned}\n",
    "\\text{minimize}\\qquad& p + q\\\\\n",
    "\\text{subject to:}\\qquad& 5p - 3q = 7 \\\\\n",
    "& 2p + q \\ge 2 \\\\\n",
    "& 1 \\le q \\le 4\n",
    "\\end{aligned}$$"
   ]
  },
  {
   "cell_type": "markdown",
   "metadata": {},
   "source": [
    "### Original problem"
   ]
  },
  {
   "cell_type": "code",
   "execution_count": 2,
   "metadata": {
    "scrolled": true
   },
   "outputs": [
    {
     "data": {
      "text/latex": [
       "$$ \\begin{aligned}\n",
       "\\min\\quad & u - v + q\\\\\n",
       "\\text{Subject to} \\quad & u \\geq 0.0\\\\\n",
       " & v \\geq 0.0\\\\\n",
       " & -q \\leq -1.0\\\\\n",
       " & 5 u - 5 v - 3 q \\leq 7.0\\\\\n",
       " & -5 u + 5 v + 3 q \\leq -7.0\\\\\n",
       " & -2 u + 2 v - q \\leq -2.0\\\\\n",
       " & q \\leq 4.0\\\\\n",
       "\\end{aligned} $$"
      ]
     },
     "metadata": {},
     "output_type": "display_data"
    },
    {
     "name": "stdout",
     "output_type": "stream",
     "text": [
      "\n",
      "p = 2.0\n",
      "q = 1.0\n",
      "objective = 3.0\n",
      "Coin0506I Presolve 3 (-3) rows, 3 (0) columns and 9 (-3) elements\n",
      "Clp0006I 0  Obj 2.9 Primal inf 0.099999006 (1) Dual inf 0.999999 (1)\n",
      "Clp0006I 1  Obj 3\n",
      "Clp0000I Optimal - objective value 3\n",
      "Coin0511I After Postsolve, objective 3, infeasibilities - dual 0 (0), primal 0 (0)\n",
      "Clp0032I Optimal objective 3 - 1 iterations time 0.022, Presolve 0.01\n"
     ]
    }
   ],
   "source": [
    "using JuMP, Clp\n",
    "\n",
    "m = Model(Clp.Optimizer)\n",
    "# p = u - v\n",
    "@variable(m, u )\n",
    "@variable(m, v )\n",
    "@variable(m, q <= 4 )\n",
    "@constraint(m, -q <= -1 )\n",
    "@constraint(m, 5(u-v) - 3q <= 7 )\n",
    "@constraint(m, -5(u-v) + 3q <= -7 )\n",
    "@constraint(m, -2(u-v) - q <= -2 )\n",
    "@constraint(m, u>= 0 )\n",
    "@constraint(m, v>= 0 )\n",
    "@objective(m, Min, (u-v) + q )\n",
    "print(m)\n",
    "optimize!(m)\n",
    "\n",
    "#println(m)\n",
    "#println(status)\n",
    "println()\n",
    "println(\"p = \", JuMP.value.(u)-JuMP.value.(v) )\n",
    "println(\"q = \", JuMP.value.(q) )\n",
    "println(\"objective = \", JuMP.objective_value(m) )"
   ]
  },
  {
   "cell_type": "markdown",
   "metadata": {},
   "source": [
    "### Standard form\n",
    "should look like:\n",
    "$$\\begin{aligned}\n",
    "\\text{maximize}\\qquad& c^T x\\\\\n",
    "\\text{subject to:}\\qquad& Ax \\le b\\\\\n",
    "& x \\ge 0\n",
    "\\end{aligned}$$"
   ]
  },
  {
   "cell_type": "code",
   "execution_count": 4,
   "metadata": {},
   "outputs": [
    {
     "data": {
      "text/latex": [
       "$$ \\begin{aligned}\n",
       "\\max\\quad & -u + v - w - 1\\\\\n",
       "\\text{Subject to} \\quad & w \\leq 3.0\\\\\n",
       " & -5 u + 5 v + 3 w \\leq -10.0\\\\\n",
       " & 5 u - 5 v - 3 w \\leq 10.0\\\\\n",
       " & -2 u + 2 v - w \\leq -1.0\\\\\n",
       " & u \\geq 0.0\\\\\n",
       " & v \\geq 0.0\\\\\n",
       " & w \\geq 0.0\\\\\n",
       "\\end{aligned} $$"
      ]
     },
     "metadata": {},
     "output_type": "display_data"
    },
    {
     "name": "stdout",
     "output_type": "stream",
     "text": [
      "\n",
      "p = 2.0\n",
      "q = 1.0\n",
      "objective = 3.0\n",
      "Coin0506I Presolve 3 (-1) rows, 3 (0) columns and 9 (-1) elements\n",
      "Clp0006I 0  Obj -2.9 Primal inf 0.099999 (1) Dual inf 0.999999 (1)\n",
      "Clp0006I 1  Obj -3\n",
      "Clp0000I Optimal - objective value -3\n",
      "Coin0511I After Postsolve, objective -3, infeasibilities - dual 0 (0), primal 0 (0)\n",
      "Clp0032I Optimal objective -3 - 1 iterations time 0.002, Presolve 0.00\n"
     ]
    }
   ],
   "source": [
    "using JuMP, Clp\n",
    "\n",
    "m = Model(Clp.Optimizer)\n",
    "@variable(m, u >= 0 )\n",
    "@variable(m, v >= 0 )\n",
    "@variable(m, w >= 0 )\n",
    "@constraint(m, (w+1) <= 4 )\n",
    "@constraint(m, -5(u-v) + 3(w+1) <= -7 )\n",
    "@constraint(m, 5(u-v) - 3(w+1) <= 7 )\n",
    "@constraint(m, -2(u-v) - (w+1) <= -2 )\n",
    "@objective(m, Max, -(u-v) - (w+1) )\n",
    "print(m)\n",
    "optimize!(m)\n",
    "#status = solve(m)\n",
    "\n",
    "\n",
    "#println(status)\n",
    "println()\n",
    "println(\"p = \", JuMP.value.(u-v) )\n",
    "println(\"q = \", JuMP.value.(w+1) )\n",
    "println(\"objective = \", -JuMP.objective_value(m) )"
   ]
  },
  {
   "cell_type": "markdown",
   "metadata": {},
   "source": [
    "### Standard form (compact)"
   ]
  },
  {
   "cell_type": "code",
   "execution_count": 6,
   "metadata": {},
   "outputs": [
    {
     "data": {
      "text/latex": [
       "$$ \\begin{aligned}\n",
       "\\max\\quad & -x_{1} + x_{2} - x_{3}\\\\\n",
       "\\text{Subject to} \\quad & x_{3} \\leq 3.0\\\\\n",
       " & -5 x_{1} + 5 x_{2} + 3 x_{3} \\leq -10.0\\\\\n",
       " & 5 x_{1} - 5 x_{2} - 3 x_{3} \\leq 10.0\\\\\n",
       " & -2 x_{1} + 2 x_{2} - x_{3} \\leq -1.0\\\\\n",
       " & x_{1} \\geq 0.0\\\\\n",
       " & x_{2} \\geq 0.0\\\\\n",
       " & x_{3} \\geq 0.0\\\\\n",
       "\\end{aligned} $$"
      ]
     },
     "metadata": {},
     "output_type": "display_data"
    },
    {
     "name": "stdout",
     "output_type": "stream",
     "text": [
      "\n",
      "p = 2.0\n",
      "q = 1.0\n",
      "objective = 3.0\n",
      "Coin0506I Presolve 3 (-1) rows, 3 (0) columns and 9 (-1) elements\n",
      "Clp0006I 0  Obj -1.9 Primal inf 0.099999 (1) Dual inf 0.999999 (1)\n",
      "Clp0006I 1  Obj -2\n",
      "Clp0000I Optimal - objective value -2\n",
      "Coin0511I After Postsolve, objective -2, infeasibilities - dual 0 (0), primal 0 (0)\n",
      "Clp0032I Optimal objective -2 - 1 iterations time 0.002, Presolve 0.00\n"
     ]
    }
   ],
   "source": [
    "# we defined the vector x to be: x = [u;  v;  w]\n",
    "A = [0 0 1; -5 5 3; 5 -5 -3; -2 2 -1]\n",
    "b = [3; -10; 10; -1]\n",
    "c = [-1; 1; -1]\n",
    "\n",
    "using JuMP, Clp\n",
    "using LinearAlgebra\n",
    "\n",
    "m = Model(Clp.Optimizer)\n",
    "@variable(m, x[1:3] >= 0 )      # specify a vector variable\n",
    "@constraint(m, A*x .<= b )      # the dot in front of <=, which indicates element-wise (vector) inequalities\n",
    "@objective(m, Max, dot(c,x) )   # must use dot(c,x) or (c'*x)[1] to return a scalar\n",
    "\n",
    "optimize!(m)\n",
    "print(m)\n",
    "\n",
    "#println(status)\n",
    "println()\n",
    "println(\"p = \", JuMP.value.(x[1]-x[2]) )\n",
    "println(\"q = \", JuMP.value.(x[3]+1) )\n",
    "println(\"objective = \", -(JuMP.objective_value(m)-1) )"
   ]
  },
  {
   "cell_type": "code",
   "execution_count": 8,
   "metadata": {},
   "outputs": [
    {
     "data": {
      "text/latex": [
       "$$ \\begin{aligned}\n",
       "\\min\\quad & p + q\\\\\n",
       "\\text{Subject to} \\quad & 5 p - 3 q = 7.0\\\\\n",
       " & 2 p + q \\geq 2.0\\\\\n",
       " & q \\in \\[1.0, 4.0\\]\\\\\n",
       "\\end{aligned} $$"
      ]
     },
     "metadata": {},
     "output_type": "display_data"
    },
    {
     "name": "stdout",
     "output_type": "stream",
     "text": [
      "\n",
      "p = 2.0\n",
      "q = 1.0\n",
      "objective = 3.0\n",
      "Coin0506I Presolve 0 (-3) rows, 0 (-2) columns and 0 (-5) elements\n",
      "Clp3002W Empty problem - 0 rows, 0 columns and 0 elements\n",
      "Clp0000I Optimal - objective value 3\n",
      "Coin0511I After Postsolve, objective 3, infeasibilities - dual 0 (0), primal 0 (0)\n",
      "Clp0032I Optimal objective 3 - 0 iterations time 0.012, Presolve 0.00\n"
     ]
    }
   ],
   "source": [
    "using JuMP, Clp\n",
    "\n",
    "m = Model(Clp.Optimizer)\n",
    "\n",
    "@variable(m, p )\n",
    "@variable(m, q )\n",
    "@constraint(m, 1 <= q <= 4 )\n",
    "#@constraint(m, q >= 1 )\n",
    "@constraint(m, 5p - 3q == 7 )\n",
    "@constraint(m, 2p + q >= 2 )\n",
    "@objective(m, Min, p + q )\n",
    "\n",
    "optimize!(m)\n",
    "\n",
    "print(m)\n",
    "\n",
    "println()\n",
    "println(\"p = \", JuMP.value.(p) )\n",
    "println(\"q = \", JuMP.value.(q) )\n",
    "println(\"objective = \", JuMP.objective_value(m) )"
   ]
  },
  {
   "cell_type": "markdown",
   "metadata": {},
   "source": [
    "\\begin{equation}\n",
    "Ax = b\n",
    "\\end{equation}"
   ]
  }
 ],
 "metadata": {
  "@webio": {
   "lastCommId": null,
   "lastKernelId": null
  },
  "anaconda-cloud": {},
  "kernelspec": {
   "display_name": "Julia 1.7.2",
   "language": "julia",
   "name": "julia-1.7"
  },
  "language_info": {
   "file_extension": ".jl",
   "mimetype": "application/julia",
   "name": "julia",
   "version": "1.7.2"
  }
 },
 "nbformat": 4,
 "nbformat_minor": 1
}
